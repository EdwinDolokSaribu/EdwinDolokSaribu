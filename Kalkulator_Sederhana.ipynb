{
  "nbformat": 4,
  "nbformat_minor": 0,
  "metadata": {
    "colab": {
      "name": "Kalkulator Sederhana.ipynb",
      "provenance": [],
      "collapsed_sections": [],
      "authorship_tag": "ABX9TyOTx9Eh2XteePfK3/Ek7u3o",
      "include_colab_link": true
    },
    "kernelspec": {
      "name": "python3",
      "display_name": "Python 3"
    },
    "language_info": {
      "name": "python"
    }
  },
  "cells": [
    {
      "cell_type": "markdown",
      "metadata": {
        "id": "view-in-github",
        "colab_type": "text"
      },
      "source": [
        "<a href=\"https://colab.research.google.com/github/EdwinDolokSaribu/EdwinDolokSaribu/blob/main/Kalkulator_Sederhana.ipynb\" target=\"_parent\"><img src=\"https://colab.research.google.com/assets/colab-badge.svg\" alt=\"Open In Colab\"/></a>"
      ]
    },
    {
      "cell_type": "code",
      "metadata": {
        "colab": {
          "base_uri": "https://localhost:8080/"
        },
        "id": "cqYmQNpWBe10",
        "outputId": "1038b995-0114-4bd4-bc71-36bfe9206572"
      },
      "source": [
        "print('=' * 25)\n",
        "print('Operasi Matematika')\n",
        "print('  1. Jumlah \\t [+]')\n",
        "print('  2. Kurang \\t [-]')\n",
        "print('  3. Kali \\t [*]')\n",
        "print('  4. Bagi \\t [/]')\n",
        "print('=' * 25)\n",
        "\n",
        "operasi = input('Pilih operasi (1/2/3/4): ')\n",
        "bil1 = eval(input('Masukkan bilangan pertama: '))\n",
        "bil2 = eval(input('Masukkan bilangan kedua: '))\n",
        "\n",
        "print('=' * 25)\n",
        "\n",
        "if operasi == '1':\n",
        "  print('User memilih penjumlahan')\n",
        "elif operasi == '2':\n",
        "  print('User memilih pengurangan')\n",
        "elif operasi == '3':\n",
        "  print('User memilih perkalian')\n",
        "elif operasi == '4':\n",
        "  print('User memilih pembagian')\n",
        "else:\n",
        "  print('Tidak valid')\n",
        "\n",
        "if operasi == '1':\n",
        "  hasil = bil1 + bil2\n",
        "  print(f'Hasil operasi dari {bil1} + {bil2} = {hasil}')\n",
        "elif operasi == '2':\n",
        "  hasil = bil1 - bil2\n",
        "  print(f'Hasil operasi dari {bil1} - {bil2} = {hasil}')\n",
        "elif operasi == '3':\n",
        "  hasil = bil1 * bil2\n",
        "  print(f'Hasil operasi dari {bil1} * {bil2} = {hasil}')\n",
        "elif operasi == '4':\n",
        "  hasil = bil1 / bil2\n",
        "  print(f'Hasil operasi dari {bil1} / {bil2} = {hasil}')\n",
        "else:\n",
        "  print('Tidak valid')"
      ],
      "execution_count": 7,
      "outputs": [
        {
          "output_type": "stream",
          "name": "stdout",
          "text": [
            "=========================\n",
            "Operasi Matematika\n",
            "  1. Jumlah \t [+]\n",
            "  2. Kurang \t [-]\n",
            "  3. Kali \t [*]\n",
            "  4. Bagi \t [/]\n",
            "=========================\n",
            "Pilih operasi (1/2/3/4): 3\n",
            "Masukkan bilangan pertama: 70\n",
            "Masukkan bilangan kedua: 7\n",
            "=========================\n",
            "User memilih perkalian\n",
            "Hasil operasi dari 70 * 7 = 490\n"
          ]
        }
      ]
    }
  ]
}
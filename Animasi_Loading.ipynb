{
  "nbformat": 4,
  "nbformat_minor": 0,
  "metadata": {
    "colab": {
      "name": "Animasi Loading.ipynb",
      "provenance": [],
      "collapsed_sections": [],
      "authorship_tag": "ABX9TyPua576LhMvWOBzegVJD1+e",
      "include_colab_link": true
    },
    "kernelspec": {
      "name": "python3",
      "display_name": "Python 3"
    },
    "language_info": {
      "name": "python"
    }
  },
  "cells": [
    {
      "cell_type": "markdown",
      "metadata": {
        "id": "view-in-github",
        "colab_type": "text"
      },
      "source": [
        "<a href=\"https://colab.research.google.com/github/EdwinDolokSaribu/EdwinDolokSaribu/blob/main/Animasi_Loading.ipynb\" target=\"_parent\"><img src=\"https://colab.research.google.com/assets/colab-badge.svg\" alt=\"Open In Colab\"/></a>"
      ]
    },
    {
      "cell_type": "code",
      "metadata": {
        "colab": {
          "base_uri": "https://localhost:8080/"
        },
        "id": "rXtqdEQNMcHo",
        "outputId": "f33e50ee-ecf4-4928-af0b-f8a93b8c12da"
      },
      "source": [
        "print (\"Animasi Loading Phyton\")\n",
        "\n",
        "import itertools\n",
        "import threading\n",
        "import time\n",
        "import sys\n",
        " \n",
        "done = False\n",
        " \n",
        "#animasi loading\n",
        "def animate():\n",
        "    for c in itertools.cycle(['(づ￣ ³￣)づ', '( つ´∀｀)つ', '(๑ > ᴗ < ๑)', '(´,,•ω•,,)♡']):\n",
        "        if done:\n",
        "            break\n",
        "        sys.stdout.write('\\rMohon tunggu sebentar! ' + c)\n",
        "        sys.stdout.flush()\n",
        "        time.sleep(0.1)\n",
        "    sys.stdout.write('\\rSelesai!     ')\n",
        " \n",
        "t = threading.Thread(target=animate)\n",
        "t.start()\n",
        " \n",
        "#proses lama disini\n",
        " \n",
        "time.sleep(10)\n",
        "done = True"
      ],
      "execution_count": 8,
      "outputs": [
        {
          "output_type": "stream",
          "name": "stdout",
          "text": [
            "Animasi Loading Phyton\n",
            "Selesai!     "
          ]
        }
      ]
    }
  ]
}
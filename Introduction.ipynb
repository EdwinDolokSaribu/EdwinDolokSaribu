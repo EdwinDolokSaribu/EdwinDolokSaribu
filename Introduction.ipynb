{
  "nbformat": 4,
  "nbformat_minor": 0,
  "metadata": {
    "colab": {
      "name": "Untitled0.ipynb",
      "provenance": [],
      "collapsed_sections": [],
      "authorship_tag": "ABX9TyOxJDPEtJY+s+HHSTR+VutO",
      "include_colab_link": true
    },
    "kernelspec": {
      "name": "python3",
      "display_name": "Python 3"
    },
    "language_info": {
      "name": "python"
    }
  },
  "cells": [
    {
      "cell_type": "markdown",
      "metadata": {
        "id": "view-in-github",
        "colab_type": "text"
      },
      "source": [
        "<a href=\"https://colab.research.google.com/github/EdwinDolokSaribu/EdwinDolokSaribu/blob/main/Introduction.ipynb\" target=\"_parent\"><img src=\"https://colab.research.google.com/assets/colab-badge.svg\" alt=\"Open In Colab\"/></a>"
      ]
    },
    {
      "cell_type": "code",
      "metadata": {
        "colab": {
          "base_uri": "https://localhost:8080/"
        },
        "id": "RVtsLoLG6Sbc",
        "outputId": "2e37af87-aa07-4f4b-d908-cc219dc81af5"
      },
      "source": [
        "nama = \"Edwin Dolok Saribu\"\n",
        "kampus = \"STMIK STIKOM Indonesia\"\n",
        "smt = \"5th\"\n",
        "lahir = \"Southeast Sulawesi\"\n",
        "tinggal = \"Bali\"\n",
        "tinggal2 = \"Bangli City\"\n",
        "hobi = \"Games\"\n",
        "hobi2 = \"Movies\"\n",
        "kontak = \"edwinds0202@gmail.com\"\n",
        "\n",
        "print (\"👋 Hello everybody! let me introduce my self.\")\n",
        "print (\"My name is \",nama,\", Im Studying at \",kampus,\" and im at \",smt,\" Semester right now.\")\n",
        "print (\"I was born at \",lahir,\" but I live in \",tinggal,\" right now, especially at \",tinggal2,\".\")\n",
        "print (\"My Hobbies are playing \",hobi,\" 🎮 and watching \",hobi2,\" 🎥.\")\n",
        "print (\"Okay, thats all about my introduction, feel free to contact me at\",kontak,\".\")\n",
        "print (\"Welcome to my repository 👋.\")"
      ],
      "execution_count": 9,
      "outputs": [
        {
          "output_type": "stream",
          "name": "stdout",
          "text": [
            "👋 Hello everybody! let me introduce my self.\n",
            "My name is  Edwin Dolok Saribu , Im Studying at  STMIK STIKOM Indonesia  and im at  5th  Semester right now.\n",
            "I was born at  Southeast Sulawesi  but I live in  Bali  right now, especially at  Bangli City .\n",
            "My Hobbies are playing  Games  🎮 and watching  Movies  🎥.\n",
            "Okay, thats all about my introduction, feel free to contact me at edwinds0202@gmail.com .\n",
            "Welcome to my repository 👋.\n"
          ]
        }
      ]
    }
  ]
}
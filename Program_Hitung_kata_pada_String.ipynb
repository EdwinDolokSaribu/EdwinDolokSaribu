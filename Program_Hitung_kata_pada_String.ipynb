{
  "nbformat": 4,
  "nbformat_minor": 0,
  "metadata": {
    "colab": {
      "name": "Program Hitung kata pada String.ipynb",
      "provenance": [],
      "collapsed_sections": [],
      "authorship_tag": "ABX9TyMuVvMkw6KeUZTOdCLDtImj",
      "include_colab_link": true
    },
    "kernelspec": {
      "name": "python3",
      "display_name": "Python 3"
    },
    "language_info": {
      "name": "python"
    }
  },
  "cells": [
    {
      "cell_type": "markdown",
      "metadata": {
        "id": "view-in-github",
        "colab_type": "text"
      },
      "source": [
        "<a href=\"https://colab.research.google.com/github/EdwinDolokSaribu/EdwinDolokSaribu/blob/main/Program_Hitung_kata_pada_String.ipynb\" target=\"_parent\"><img src=\"https://colab.research.google.com/assets/colab-badge.svg\" alt=\"Open In Colab\"/></a>"
      ]
    },
    {
      "cell_type": "code",
      "metadata": {
        "colab": {
          "base_uri": "https://localhost:8080/"
        },
        "id": "Sadd_f5TKrKZ",
        "outputId": "1b1aaf82-cdbd-485d-df6d-fbd1e3ab36de"
      },
      "source": [
        "print (\"Program Phyton Menghitung Kata pada String\")\n",
        "\n",
        "hitungstring = \"Nama saya Edwin Dolok Saribu, saya adalah Mahasiswa STIKI Indonesia\"\n",
        "\n",
        "print (\"String awal : \" + hitungstring)\n",
        "\n",
        "res = len(hitungstring.split())\n",
        "\n",
        "print (\"Jumlah kata pada string awal adalah : \" + str(res)) "
      ],
      "execution_count": 7,
      "outputs": [
        {
          "output_type": "stream",
          "name": "stdout",
          "text": [
            "Program Phyton Menghitung Kata pada String\n",
            "String awal : Nama saya Edwin Dolok Saribu, saya adalah Mahasiswa STIKI Indonesia\n",
            "Jumlah kata pada string awal adalah : 10\n"
          ]
        }
      ]
    }
  ]
}
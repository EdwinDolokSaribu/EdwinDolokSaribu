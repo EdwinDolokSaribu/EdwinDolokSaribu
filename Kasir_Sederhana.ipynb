{
  "nbformat": 4,
  "nbformat_minor": 0,
  "metadata": {
    "colab": {
      "name": "Kasir Sederhana.ipynb",
      "provenance": [],
      "collapsed_sections": [],
      "authorship_tag": "ABX9TyNx7Ttp1kSywVsmYZkNRtoR",
      "include_colab_link": true
    },
    "kernelspec": {
      "name": "python3",
      "display_name": "Python 3"
    },
    "language_info": {
      "name": "python"
    }
  },
  "cells": [
    {
      "cell_type": "markdown",
      "metadata": {
        "id": "view-in-github",
        "colab_type": "text"
      },
      "source": [
        "<a href=\"https://colab.research.google.com/github/EdwinDolokSaribu/EdwinDolokSaribu/blob/main/Kasir_Sederhana.ipynb\" target=\"_parent\"><img src=\"https://colab.research.google.com/assets/colab-badge.svg\" alt=\"Open In Colab\"/></a>"
      ]
    },
    {
      "cell_type": "code",
      "metadata": {
        "colab": {
          "base_uri": "https://localhost:8080/"
        },
        "id": "sWgz0yODHawj",
        "outputId": "3a0fabca-6860-4621-df0b-19a721e0a5cb"
      },
      "source": [
        "print(\"Program Phyton Kasir Sederhana\")\n",
        "\n",
        "no1= str(input(\"Masukkan nama baju : \"))\n",
        "no2= int(input(\"Masukkan harga baju: Rp. \"))\n",
        "no3= int(input(\"Masukkan jumlah baju : \"))\n",
        "no4= int(input(\"Masukkan jumlah uang yang di bayar: Rp.\"))\n",
        "\n",
        "total= (no2*no3-no4)\n",
        "\n",
        "print(\"Total kembalian: \",\"Rp.\",total)"
      ],
      "execution_count": 5,
      "outputs": [
        {
          "output_type": "stream",
          "name": "stdout",
          "text": [
            "Program Phyton Kasir Sederhana\n",
            "Masukkan nama baju : Baju Kaos\n",
            "Masukkan harga baju: Rp. 40000\n",
            "Masukkan jumlah baju : 2\n",
            "Masukkan jumlah uang yang di bayar: Rp.100000\n",
            "Total kembalian:  Rp. -20000\n"
          ]
        }
      ]
    }
  ]
}
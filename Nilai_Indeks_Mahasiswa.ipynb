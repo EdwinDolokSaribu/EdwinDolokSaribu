{
  "nbformat": 4,
  "nbformat_minor": 0,
  "metadata": {
    "colab": {
      "name": "Nilai Indeks Mahasiswa.ipynb",
      "provenance": [],
      "collapsed_sections": [],
      "authorship_tag": "ABX9TyPrOMJyltgCaSy+Pzo2gvQE",
      "include_colab_link": true
    },
    "kernelspec": {
      "name": "python3",
      "display_name": "Python 3"
    },
    "language_info": {
      "name": "python"
    }
  },
  "cells": [
    {
      "cell_type": "markdown",
      "metadata": {
        "id": "view-in-github",
        "colab_type": "text"
      },
      "source": [
        "<a href=\"https://colab.research.google.com/github/EdwinDolokSaribu/EdwinDolokSaribu/blob/main/Nilai_Indeks_Mahasiswa.ipynb\" target=\"_parent\"><img src=\"https://colab.research.google.com/assets/colab-badge.svg\" alt=\"Open In Colab\"/></a>"
      ]
    },
    {
      "cell_type": "code",
      "metadata": {
        "colab": {
          "base_uri": "https://localhost:8080/"
        },
        "id": "txmM604AEwKC",
        "outputId": "4d379d1a-b596-482d-ad0d-caa0a9a1c4ce"
      },
      "source": [
        "print(\"Program Phyton Menentukan Nilai Indeks Mahasiswa\")\n",
        "tugas = float(input(\"\\nMasukkan nilai Tugas: \"))\n",
        "uts = float(input(\"Masukkan nilai UTS: \"))\n",
        "uas = float(input(\"Masukkan nilai UAS: \"))\n",
        "\n",
        "na =  (0.15 * uas) + (0.35 * uts) +  (0.50 * uas)\n",
        "if na >= 80:\n",
        "    indeks = 'A'\n",
        "elif na >= 70:\n",
        "    indeks = 'B'\n",
        "elif na >= 55:\n",
        "    indeks = 'C'\n",
        "elif na >= 40:\n",
        "    indeks = 'D'\n",
        "else:\n",
        "    indeks = 'E'\n",
        "\n",
        "print(\"\\nNilai Akhir  = %0.2f\" % na)\n",
        "print(\"Nilai Indeks = %c\" % indeks)"
      ],
      "execution_count": 11,
      "outputs": [
        {
          "output_type": "stream",
          "name": "stdout",
          "text": [
            "Program Phyton Menentukan Nilai Indeks Mahasiswa\n",
            "\n",
            "Masukkan nilai Tugas: 90\n",
            "Masukkan nilai UTS: 85\n",
            "Masukkan nilai UAS: 90\n",
            "\n",
            "Nilai Akhir  = 88.25\n",
            "Nilai Indeks = A\n"
          ]
        }
      ]
    }
  ]
}
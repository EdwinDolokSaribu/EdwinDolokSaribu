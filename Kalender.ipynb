{
  "nbformat": 4,
  "nbformat_minor": 0,
  "metadata": {
    "colab": {
      "name": "Kalender.ipynb",
      "provenance": [],
      "authorship_tag": "ABX9TyOwdij3kl/NSWNIIDLGknSN",
      "include_colab_link": true
    },
    "kernelspec": {
      "name": "python3",
      "display_name": "Python 3"
    },
    "language_info": {
      "name": "python"
    }
  },
  "cells": [
    {
      "cell_type": "markdown",
      "metadata": {
        "id": "view-in-github",
        "colab_type": "text"
      },
      "source": [
        "<a href=\"https://colab.research.google.com/github/EdwinDolokSaribu/EdwinDolokSaribu/blob/main/Kalender.ipynb\" target=\"_parent\"><img src=\"https://colab.research.google.com/assets/colab-badge.svg\" alt=\"Open In Colab\"/></a>"
      ]
    },
    {
      "cell_type": "code",
      "metadata": {
        "colab": {
          "base_uri": "https://localhost:8080/"
        },
        "id": "yAKxs-Y7_IT9",
        "outputId": "bb3f6bf1-1755-43cd-a7e3-f59311a36119"
      },
      "source": [
        "print(\"KALENDER\")\n",
        "\n",
        "import calendar\n",
        "\n",
        "yy = 2021\n",
        "mm = 11\n",
        "\n",
        "print(\"---------------------\")\n",
        "print(calendar.month(yy, mm))"
      ],
      "execution_count": 8,
      "outputs": [
        {
          "output_type": "stream",
          "name": "stdout",
          "text": [
            "KALENDER\n",
            "---------------------\n",
            "   November 2021\n",
            "Mo Tu We Th Fr Sa Su\n",
            " 1  2  3  4  5  6  7\n",
            " 8  9 10 11 12 13 14\n",
            "15 16 17 18 19 20 21\n",
            "22 23 24 25 26 27 28\n",
            "29 30\n",
            "\n"
          ]
        }
      ]
    }
  ]
}